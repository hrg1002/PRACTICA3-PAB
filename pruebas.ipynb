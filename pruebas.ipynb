{
 "cells": [
  {
   "cell_type": "code",
   "execution_count": 12,
   "id": "568b3e04",
   "metadata": {},
   "outputs": [
    {
     "name": "stdout",
     "output_type": "stream",
     "text": [
      "Accession number: AAB51347\n"
     ]
    }
   ],
   "source": [
    "'''\n",
    "A traves del uso de BLAST, se obtendria el accesion number de la secuencia proporcionada en el fichero gene.fasta.\n",
    "Podeis utilizar cualquiera de las alternativas de uso de BLAST estudiadas en el Notebook 2B de la asignatura\n",
    "(en local o contra el servidor de NCBI).\n",
    "Almacenad el resultado obtenido con BLAST en el fichero que se ha indicado en el parametro --output.\n",
    "Como seleccionar el accesion number del hit adecuado:\n",
    "• Deberia tener un e-value menor de 0.01\n",
    "• Entre los que cumplan la condicion anterior seleccionaremos el que mayor score tenga.\n",
    "'''\n",
    "from Bio.Blast import NCBIWWW, NCBIXML\n",
    "from Bio import SeqIO\n",
    "\n",
    "#leemos la secuencia del fichero gene.fasta\n",
    "registro= SeqIO.read(\"data/gene.fasta\", \"fasta\")\n",
    "\n",
    "# ejecutamos el BLAST\n",
    "blast_result = NCBIWWW.qblast(\"blastp\", \"nr\", registro.seq, expect=0.01, hitlist_size=10)\n",
    "\n",
    "# Guardamos el resultado en un fichero \n",
    "with open(\"data/salida.xml\", \"w\") as archivo_blast:\n",
    "    archivo_blast.write(blast_result.read())\n",
    "\n",
    "\n",
    "# Cerramos el resultado del BLAST\n",
    "blast_result.close()\n",
    "\n",
    "# Leemos el resultado del BLAST\n",
    "# queremos el accession number del hit adecuado y que mayor score tenga\n",
    "\n",
    "with open(\"data/salida.xml\") as archivo_blast:\n",
    "    blast_record = NCBIXML.read(archivo_blast)\n",
    "\n",
    "    # Inicializamos el mejor hit\n",
    "    mejor_hit = None\n",
    "    mejor_score = 0\n",
    "\n",
    "    # Iteramos sobre los hits\n",
    "    for hit in blast_record.alignments:\n",
    "        for hsp in hit.hsps:\n",
    "            if hsp.expect < 0.01 and hsp.score > mejor_score:\n",
    "                mejor_hit = hit\n",
    "                mejor_score = hsp.score\n",
    "\n",
    "\n",
    "    # Guardar el accession number del mejor hit en un archivo de salida\n",
    "    with open(\"data/salida.txt\", \"w\") as salida:\n",
    "        if mejor_hit:\n",
    "            salida.write(f\"Accession number: {mejor_hit.accession}\\n\")\n",
    "        else:\n",
    "            salida.write(\"No se encontraton\\n\")\n",
    "\n",
    "    from Bio import Entrez\n",
    "\n",
    "print(\"Accession number:\", mejor_hit.accession)"
   ]
  },
  {
   "cell_type": "code",
   "execution_count": null,
   "id": "fc6b7be8",
   "metadata": {},
   "outputs": [
    {
     "name": "stdout",
     "output_type": "stream",
     "text": [
      "MTHLERSRQMSKGEELFTGVVPILVELDGDVNGHKFSVSGEGEGDATYGKLTLKFICTTGKLPVPWPTLVTTFSYGVQCFSRYPDHMKQHDFFKSAMPEGYVQERTIFFKDDGNYKTRAEVKFEGDTLVNRIELKGIDFKEDGNILGHKLEYNYNSHNVYIMADKQKNGIKVNFKIRHNIEDGSVQLADHYQQNTPIGDGPVLLPDNHYLSTQSALSKDPNEKRDHMVLLEFVTAAGITHGMDELYK\n",
      "AAB51347\n",
      "ID: AAB51347.1\n",
      "Name: AAB51347\n",
      "Description: green fluorescent protein (mitochondrion) [synthetic construct]\n",
      "Number of features: 4\n",
      "/topology=linear\n",
      "/data_file_division=SYN\n",
      "/date=26-JUL-2016\n",
      "/accessions=['AAB51347']\n",
      "/sequence_version=1\n",
      "/db_source=locus SCU89685 accession U89685.1\n",
      "/keywords=['']\n",
      "/source=mitochondrion synthetic construct\n",
      "/organism=synthetic construct\n",
      "/taxonomy=['other sequences', 'artificial sequences']\n",
      "/references=[Reference(title='FACS-optimized mutants of the green fluorescent protein (GFP)', ...), Reference(title='Expression of green fluorescent protein from a recoded gene inserted into Saccharomyces cerevisiae mitochondrial DNA', ...), Reference(title='Direct Submission', ...)]\n",
      "/molecule_type=protein\n",
      "Seq('MTHLERSRQMSKGEELFTGVVPILVELDGDVNGHKFSVSGEGEGDATYGKLTLK...LYK')\n"
     ]
    }
   ],
   "source": [
    "Entrez.email=\"raul.ortegare@gmail.com\"\n",
    "Entrez.api_key=\"90fba815d4e3b0c6891f4558feedd9ad5e09\"\n",
    "accession = mejor_hit.accession\n",
    "\n",
    "handle = Entrez.efetch(db = \"protein\", id = accession, rettype = \"gb\", retmode = \"text\")\n",
    "record = SeqIO.read(handle, \"genbank\")\n",
    "handle.close()\n",
    "print(record.seq)\n",
    "\n",
    "print(record.name)  # no se si usar .name o .id o el accession tal cual\n",
    "print(record)"
   ]
  },
  {
   "cell_type": "code",
   "execution_count": 30,
   "id": "61ed4e66",
   "metadata": {},
   "outputs": [],
   "source": [
    "def smith_waterman(seq1, seq2, matrix_name, gap_penalty):\n",
    "    \"\"\"\n",
    "    Implementación del algoritmo Smith-Waterman.\n",
    "\n",
    "    Args:\n",
    "        seq1 (str): Primera secuencia.\n",
    "        seq2 (str): Segunda secuencia.\n",
    "        matrix_name (str): Nombre de la matriz de sustitución.\n",
    "        gap_penalty (int): Penalización por huecos.\n",
    "\n",
    "    Returns:\n",
    "        tuple: (alineamiento seq1, alineamiento seq2, puntuación)\n",
    "    \"\"\"\n",
    "    matrix = load(matrix_name)\n",
    "    n = len(seq1) + 1\n",
    "    m = len(seq2) + 1\n",
    "    score_matrix = np.zeros((n, m), dtype=int)\n",
    "    traceback = np.zeros((n, m), dtype=str)\n",
    "\n",
    "    max_score = 0\n",
    "    max_pos = (0, 0)\n",
    "\n",
    "    for i in range(1, n):\n",
    "        for j in range(1, m):\n",
    "            match = matrix[seq1[i - 1], seq2[j - 1]]\n",
    "            diag = score_matrix[i-1][j-1] + match\n",
    "            up = score_matrix[i-1][j] + gap_penalty\n",
    "            left = score_matrix[i][j-1] + gap_penalty\n",
    "            score_matrix[i][j] = max(0, diag, up, left)\n",
    "\n",
    "            if score_matrix[i][j] == diag:\n",
    "                traceback[i][j] = 'D'\n",
    "            elif score_matrix[i][j] == up:\n",
    "                traceback[i][j] = 'U'\n",
    "            elif score_matrix[i][j] == left:\n",
    "                traceback[i][j] = 'L'\n",
    "            else:\n",
    "                traceback[i][j] = '0'\n",
    "\n",
    "            if score_matrix[i][j] >= max_score:\n",
    "                max_score = score_matrix[i][j]\n",
    "                max_pos = (i, j)\n",
    "    # Backtracking\n",
    "    i, j = max_pos\n",
    "    aligned1, aligned2 = [], []\n",
    "\n",
    "    while score_matrix[i][j] != 0:\n",
    "        if traceback[i][j] == 'D':\n",
    "            aligned1.append(seq1[i - 1])\n",
    "            aligned2.append(seq2[j - 1])\n",
    "            i -= 1\n",
    "            j -= 1\n",
    "        elif traceback[i][j] == 'U':\n",
    "            aligned1.append(seq1[i - 1])\n",
    "            aligned2.append('-')\n",
    "            i -= 1\n",
    "        elif traceback[i][j] == 'L':\n",
    "            aligned1.append('-')\n",
    "            aligned2.append(seq2[j - 1])\n",
    "            j -= 1\n",
    "\n",
    "    aligned1.reverse()\n",
    "    aligned2.reverse()\n",
    "\n",
    "    return ''.join(aligned1), ''.join(aligned2), max_score"
   ]
  },
  {
   "cell_type": "code",
   "execution_count": 35,
   "id": "381f2eee",
   "metadata": {},
   "outputs": [
    {
     "name": "stdout",
     "output_type": "stream",
     "text": [
      "Alineamiento Smith-Waterman:\n",
      "MSKGEELFTGVVPILVELDGDVNGHKFSVSGEGEGDATYGKLTLKFIYTTGKLPVPWPTLVTTFSYGVQCFSRFPDHMKQHDFFKSAMPEGYVQERTIFFKDDGNYKTRAEIKFEGDTLVNRIELKGIDFKEDGNILGHKLEYNYNSHNVYIMADKQKNGIKVNFKIRHNIEDGSIRLADHYQQNTPIGDGPVLLPDNHYLSTQSALSKDPNEKRDHMVLLEFVTAAGITHGMDELYK\n",
      "MSKGEELFTGVVPILVELDGDVNGHKFSVSGEGEGDATYGKLTLKFICTTGKLPVPWPTLVTTFSYGVQCFSRYPDHMKQHDFFKSAMPEGYVQERTIFFKDDGNYKTRAEVKFEGDTLVNRIELKGIDFKEDGNILGHKLEYNYNSHNVYIMADKQKNGIKVNFKIRHNIEDGSVQLADHYQQNTPIGDGPVLLPDNHYLSTQSALSKDPNEKRDHMVLLEFVTAAGITHGMDELYK\n",
      "Puntuación: 1254\n"
     ]
    }
   ],
   "source": [
    "aligned1, aligned2, score_sw = smith_waterman(registro.seq, record.seq, \"BLOSUM62\", -5)\n",
    "print(\"Alineamiento Smith-Waterman:\")\n",
    "print(aligned1)\n",
    "print(aligned2)\n",
    "print(\"Puntuación:\", score_sw)"
   ]
  },
  {
   "cell_type": "code",
   "execution_count": null,
   "id": "2bd8f35c",
   "metadata": {},
   "outputs": [],
   "source": []
  }
 ],
 "metadata": {
  "kernelspec": {
   "display_name": "biopy",
   "language": "python",
   "name": "python3"
  },
  "language_info": {
   "codemirror_mode": {
    "name": "ipython",
    "version": 3
   },
   "file_extension": ".py",
   "mimetype": "text/x-python",
   "name": "python",
   "nbconvert_exporter": "python",
   "pygments_lexer": "ipython3",
   "version": "3.11.7"
  }
 },
 "nbformat": 4,
 "nbformat_minor": 5
}
